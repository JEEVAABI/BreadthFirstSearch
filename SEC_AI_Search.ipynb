{
 "cells": [
  {
   "cell_type": "code",
   "execution_count": 35,
   "id": "456faa04",
   "metadata": {},
   "outputs": [],
   "source": [
    "%matplotlib inline\n",
    "import matplotlib.pyplot as plt\n",
    "import random\n",
    "import math\n",
    "import sys\n",
    "from collections import defaultdict, deque, Counter\n",
    "from itertools import combinations"
   ]
  },
  {
   "cell_type": "code",
   "execution_count": 36,
   "id": "965a1c92-88f8-4265-8674-425209bf365c",
   "metadata": {},
   "outputs": [],
   "source": [
    "# Prepared by \n",
    "# C. Obed Otto, \n",
    "# Department of Artificial Intelligence and Datascience,\n",
    "# Saveetha Engineering College. 602105. India."
   ]
  },
  {
   "cell_type": "code",
   "execution_count": 37,
   "id": "b3632c13-bc48-4b90-a0b0-18ac55da0052",
   "metadata": {},
   "outputs": [],
   "source": [
    "# Experiment done by\n",
    "# JEEVA ABISHAKE,\n",
    "# Department of Artificial Intelligence and Machine Learning,\n",
    "# Saveetha Engineering College. 602105. India."
   ]
  },
  {
   "cell_type": "markdown",
   "id": "979a4a51",
   "metadata": {},
   "source": [
    "# Problems"
   ]
  },
  {
   "cell_type": "markdown",
   "id": "7d58e05c-5c73-492b-a5d0-77e6578ff7c2",
   "metadata": {},
   "source": [
    "#### This is the abstract class. Specific problem domains will subclass this."
   ]
  },
  {
   "cell_type": "code",
   "execution_count": 38,
   "id": "6cda9c85",
   "metadata": {},
   "outputs": [],
   "source": [
    "class Problem(object):\n",
    "    \"\"\"The abstract class for a formal problem. A new domain subclasses this,\n",
    "    overriding `actions` and `results`, and perhaps other methods.\n",
    "    The default heuristic is 0 and the default action cost is 1 for all states.\n",
    "    When yiou create an instance of a subclass, specify `initial`, and `goal` states \n",
    "    (or give an `is_goal` method) and perhaps other keyword args for the subclass.\"\"\"\n",
    "\n",
    "    def __init__(self, initial=None, goal=None, **kwds): \n",
    "        self.__dict__.update(initial=initial, goal=goal, **kwds) \n",
    "        \n",
    "    def actions(self, state):        \n",
    "        raise NotImplementedError\n",
    "    def result(self, state, action): \n",
    "        raise NotImplementedError\n",
    "    def is_goal(self, state):        \n",
    "        return state == self.goal\n",
    "    def action_cost(self, s, a, s1): \n",
    "        return 1\n",
    "    \n",
    "    def __str__(self):\n",
    "        return '{0}({1}, {2})'.format(\n",
    "            type(self).__name__, self.initial, self.goal)"
   ]
  },
  {
   "cell_type": "markdown",
   "id": "7a6d497d-96eb-498c-bd51-3c935d0dea0a",
   "metadata": {},
   "source": [
    "# Nodes"
   ]
  },
  {
   "cell_type": "markdown",
   "id": "b68f2b8d-7ccf-48e3-ab0d-151c7468675f",
   "metadata": {
    "tags": []
   },
   "source": [
    "#### This is the Node in the search tree. Helper functions (expand, path_actions, path_states) use this Node class."
   ]
  },
  {
   "cell_type": "code",
   "execution_count": 39,
   "id": "e3a0a4a9",
   "metadata": {},
   "outputs": [],
   "source": [
    "class Node:\n",
    "    \"A Node in a search tree.\"\n",
    "    def __init__(self, state, parent=None, action=None, path_cost=0):\n",
    "        self.__dict__.update(state=state, parent=parent, action=action, path_cost=path_cost)\n",
    "\n",
    "    def __str__(self): \n",
    "        return '<{0}>'.format(self.state)\n",
    "    def __len__(self): \n",
    "        return 0 if self.parent is None else (1 + len(self.parent))\n",
    "    def __lt__(self, other): \n",
    "        return self.path_cost < other.path_cost"
   ]
  },
  {
   "cell_type": "code",
   "execution_count": 40,
   "id": "abc1a9ff",
   "metadata": {},
   "outputs": [],
   "source": [
    "failure = Node('failure', path_cost=math.inf) # Indicates an algorithm couldn't find a solution.\n",
    "cutoff  = Node('cutoff',  path_cost=math.inf) # Indicates iterative deepening search was cut off."
   ]
  },
  {
   "cell_type": "markdown",
   "id": "1f1eed03-f5bb-48ec-8b60-e882d93c2fdf",
   "metadata": {},
   "source": [
    "# Helper functions"
   ]
  },
  {
   "cell_type": "code",
   "execution_count": 41,
   "id": "6f8c0a62",
   "metadata": {},
   "outputs": [],
   "source": [
    "def expand(problem, node):\n",
    "    \"Expand a node, generating the children nodes.\"\n",
    "    s = node.state\n",
    "    for action in problem.actions(s):\n",
    "        s1 = problem.result(s, action)\n",
    "        cost = node.path_cost + problem.action_cost(s, action, s1)\n",
    "        yield Node(s1, node, action, cost)\n",
    "        \n",
    "\n",
    "def path_actions(node):\n",
    "    \"The sequence of actions to get to this node.\"\n",
    "    if node.parent is None:\n",
    "        return []  \n",
    "    return path_actions(node.parent) + [node.action]\n",
    "\n",
    "\n",
    "def path_states(node):\n",
    "    \"The sequence of states to get to this node.\"\n",
    "    if node in (cutoff, failure, None): \n",
    "        return []\n",
    "    return path_states(node.parent) + [node.state]"
   ]
  },
  {
   "cell_type": "code",
   "execution_count": 42,
   "id": "6203d3e8",
   "metadata": {},
   "outputs": [],
   "source": [
    "FIFOQueue = deque"
   ]
  },
  {
   "cell_type": "markdown",
   "id": "71b52326-6672-43ad-a7b8-5f7f6ee201b0",
   "metadata": {},
   "source": [
    "# Search Algorithm :  Breadth First Search"
   ]
  },
  {
   "cell_type": "code",
   "execution_count": 43,
   "id": "94049915",
   "metadata": {},
   "outputs": [],
   "source": [
    "def breadth_first_search(problem):\n",
    "    \"Search shallowest nodes in the search tree first.\"\n",
    "    node = Node(problem.initial)\n",
    "    if problem.is_goal(problem.initial):\n",
    "        return node\n",
    "    # Remove the following comments to initialize the data structure\n",
    "    frontier = FIFOQueue([node])\n",
    "    reached = {problem.initial}\n",
    "    while frontier:\n",
    "        node = frontier.pop()\n",
    "        for child in expand(problem, node):\n",
    "            s = child.state\n",
    "            if problem.is_goal(s):\n",
    "                return child\n",
    "            if s not in reached:\n",
    "                reached.add(s)\n",
    "                frontier.appendleft(child)\n",
    "    return failure"
   ]
  },
  {
   "cell_type": "markdown",
   "id": "8205cade",
   "metadata": {},
   "source": [
    "# Route Finding Problems"
   ]
  },
  {
   "cell_type": "code",
   "execution_count": 44,
   "id": "b290e106",
   "metadata": {},
   "outputs": [],
   "source": [
    "class RouteProblem(Problem):\n",
    "    \"\"\"A problem to find a route between locations on a `Map`.\n",
    "    Create a problem with RouteProblem(start, goal, map=Map(...)}).\n",
    "    States are the vertexes in the Map graph; actions are destination states.\"\"\"\n",
    "    \n",
    "    def actions(self, state): \n",
    "        \"\"\"The places neighboring `state`.\"\"\"\n",
    "        return self.map.neighbors[state]\n",
    "    \n",
    "    def result(self, state, action):\n",
    "        \"\"\"Go to the `action` place, if the map says that is possible.\"\"\"\n",
    "        return action if action in self.map.neighbors[state] else state\n",
    "    \n",
    "    def action_cost(self, s, action, s1):\n",
    "        \"\"\"The distance (cost) to go from s to s1.\"\"\"\n",
    "        return self.map.distances[s, s1]\n",
    "    \n",
    "    def h(self, node):\n",
    "        \"Straight-line distance between state and the goal.\"\n",
    "        locs = self.map.locations\n",
    "        return straight_line_distance(locs[node.state], locs[self.goal])\n",
    "    \n"
   ]
  },
  {
   "cell_type": "code",
   "execution_count": 29,
   "id": "cc3e4c12",
   "metadata": {},
   "outputs": [],
   "source": [
    "class Map:\n",
    "    \"\"\"A map of places in a 2D world: a graph with vertexes and links between them. \n",
    "    In `Map(links, locations)`, `links` can be either [(v1, v2)...] pairs, \n",
    "    or a {(v1, v2): distance...} dict. Optional `locations` can be {v1: (x, y)} \n",
    "    If `directed=False` then for every (v1, v2) link, we add a (v2, v1) link.\"\"\"\n",
    "\n",
    "    def __init__(self, links, locations=None, directed=False):\n",
    "        if not hasattr(links, 'items'): # Distances are 1 by default\n",
    "            links = {link: 1 for link in links}\n",
    "        if not directed:\n",
    "            for (v1, v2) in list(links):\n",
    "                links[v2, v1] = links[v1, v2]\n",
    "        self.distances = links\n",
    "        self.neighbors = multimap(links)\n",
    "        self.locations = locations or defaultdict(lambda: (0, 0))\n",
    "\n",
    "        \n",
    "def multimap(pairs) -> dict:\n",
    "    \"Given (key, val) pairs, make a dict of {key: [val,...]}.\"\n",
    "    result = defaultdict(list)\n",
    "    for key, val in pairs:\n",
    "        result[key].append(val)\n",
    "    return result"
   ]
  },
  {
   "cell_type": "code",
   "execution_count": 30,
   "id": "95698a3e",
   "metadata": {},
   "outputs": [],
   "source": []
  },
  {
   "cell_type": "code",
   "execution_count": 93,
   "id": "ac78ef7c",
   "metadata": {},
   "outputs": [],
   "source": [
    "# Create your own map and define the nodes\n",
    "\n",
    "saveetha_nearby_locations = Map(\n",
    "    {('PERUNGALATHUR', 'TAMBARAM'):  3, ('TAMBARAM', 'CHROMRPET'): 7, ('TAMBARAM', 'THANDALAM'): 10,\n",
    "     ('CHROMRPET', 'MEDAVAKAM'): 10, ('CHROMRPET', 'THORAIPAKKAM'): 12, ('CHROMRPET', 'GUINDY'): 13, \n",
    "     ('MEDAVAKAM', 'SIRUSERI'):  11, ('SIRUSERI', 'KELAMBAKKAM'): 8, ('KELAMBAKKAM', 'THORAIPAKKAM'): 17, \n",
    "     ('KELAMBAKKAM', 'VGP'): 18, ('VGP', 'THIRUVALLUVAR'): 8, ('THIRUVALLUVAR', 'ADYAR'):  5, ('ADYAR', 'GUINDY'): 5, \n",
    "     ('GUINDY', 'THORAIPAKKAM'): 9, ('GUINDY', 'T-NAGAR'): 5, ('T-NAGAR','MARINABEACH'): 6, ('T-NAGAR','KOYAMBEDU'): 9, \n",
    "     ('GUINDY','PORUR'): 10, ('KOYAMBEDU','AMBATTUR'): 10, ('AMBATTUR','AVADI'): 10, ('AVADI','POONAMALLEE'): 9, \n",
    "     ('THANDALAM','SAVEETHAENGINEERINGCOLLEGE'): 18, ('SAVEETHAENGINEERINGCOLLEGE','POONAMALLEE'): 10, \n",
    "     ('POONAMALLEE','PORUR'): 7, ('THANDALAM','PORUR'): 7})\n",
    "\n",
    "\n",
    "r0 = RouteProblem('PERUNGALATHUR', 'KELAMBAKKAM', map=saveetha_nearby_locations)\n",
    "r1 = RouteProblem('PERUNGALATHUR', 'MARINABEACH', map=saveetha_nearby_locations)\n",
    "r2 = RouteProblem('MARINABEACH', 'SAVEETHAENGINEERINGCOLLEGE', map=saveetha_nearby_locations)\n",
    "r3 = RouteProblem('SAVEETHAENGINEERINGCOLLEGE', 'VGP', map=saveetha_nearby_locations)\n",
    "r4 = RouteProblem('TAMBARAM', 'T-NAGAR', map=saveetha_nearby_locations)\n",
    "r5 = RouteProblem('KOYAMBEDU', 'POONAMALLEE', map=saveetha_nearby_locations)\n",
    "r6 = RouteProblem('KELAMBAKKAM', 'KOYAMBEDU', map=saveetha_nearby_locations)\n",
    "r7 = RouteProblem('THIRUVALLUVAR', 'PERUNGALATHUR', map=saveetha_nearby_locations)\n",
    "r8 = RouteProblem('KELAMBAKKAM', 'SAVEETHAENGINEERINGCOLLEGE', map=saveetha_nearby_locations)\n",
    "r9 = RouteProblem('CHROMRPET', 'AVADI', map=saveetha_nearby_locations)"
   ]
  },
  {
   "cell_type": "code",
   "execution_count": 100,
   "id": "30263afc",
   "metadata": {},
   "outputs": [
    {
     "name": "stdout",
     "output_type": "stream",
     "text": [
      "RouteProblem(PERUNGALATHUR, KELAMBAKKAM)\n",
      "RouteProblem(PERUNGALATHUR, MARINABEACH)\n",
      "RouteProblem(MARINABEACH, SAVEETHAENGINEERINGCOLLEGE)\n",
      "RouteProblem(SAVEETHAENGINEERINGCOLLEGE, VGP)\n",
      "RouteProblem(TAMBARAM, T-NAGAR)\n",
      "RouteProblem(KOYAMBEDU, POONAMALLEE)\n",
      "RouteProblem(KELAMBAKKAM, KOYAMBEDU)\n",
      "RouteProblem(THIRUVALLUVAR, PERUNGALATHUR)\n",
      "RouteProblem(KELAMBAKKAM, SAVEETHAENGINEERINGCOLLEGE)\n",
      "RouteProblem(CHROMRPET, AVADI)\n"
     ]
    }
   ],
   "source": [
    "print(r0)\n",
    "print(r1)\n",
    "print(r2)\n",
    "print(r3)\n",
    "print(r4)\n",
    "print(r5)\n",
    "print(r6)\n",
    "print(r7)\n",
    "print(r8)\n",
    "print(r9)"
   ]
  },
  {
   "cell_type": "code",
   "execution_count": 94,
   "id": "687c95af-a0d4-4c0f-89db-ff1a5a097a98",
   "metadata": {},
   "outputs": [],
   "source": [
    "goal_state_path=breadth_first_search(r2)"
   ]
  },
  {
   "cell_type": "code",
   "execution_count": 95,
   "id": "b0ee06de-4daa-4702-92c8-825717824e56",
   "metadata": {},
   "outputs": [
    {
     "name": "stdout",
     "output_type": "stream",
     "text": [
      "GoalStateWithPath:<SAVEETHAENGINEERINGCOLLEGE>\n"
     ]
    }
   ],
   "source": [
    "print(\"GoalStateWithPath:{0}\".format(goal_state_path))"
   ]
  },
  {
   "cell_type": "code",
   "execution_count": 96,
   "id": "d54626ec-7fc2-4348-a4a4-249c420eb209",
   "metadata": {},
   "outputs": [
    {
     "data": {
      "text/plain": [
       "['MARINABEACH',\n",
       " 'T-NAGAR',\n",
       " 'GUINDY',\n",
       " 'PORUR',\n",
       " 'POONAMALLEE',\n",
       " 'SAVEETHAENGINEERINGCOLLEGE']"
      ]
     },
     "execution_count": 96,
     "metadata": {},
     "output_type": "execute_result"
    }
   ],
   "source": [
    "path_states(goal_state_path) "
   ]
  },
  {
   "cell_type": "code",
   "execution_count": 97,
   "id": "49e68198-d302-48c2-ae11-2cf28cc92499",
   "metadata": {},
   "outputs": [
    {
     "name": "stdout",
     "output_type": "stream",
     "text": [
      "Total Distance=38 Kilometers\n"
     ]
    }
   ],
   "source": [
    "print(\"Total Distance={0} Kilometers\".format(goal_state_path.path_cost))"
   ]
  },
  {
   "cell_type": "code",
   "execution_count": null,
   "id": "dbc3afa2",
   "metadata": {},
   "outputs": [],
   "source": []
  },
  {
   "cell_type": "code",
   "execution_count": null,
   "id": "3b095ba1",
   "metadata": {},
   "outputs": [],
   "source": []
  }
 ],
 "metadata": {
  "kernelspec": {
   "display_name": "Python 3",
   "language": "python",
   "name": "python3"
  },
  "language_info": {
   "codemirror_mode": {
    "name": "ipython",
    "version": 3
   },
   "file_extension": ".py",
   "mimetype": "text/x-python",
   "name": "python",
   "nbconvert_exporter": "python",
   "pygments_lexer": "ipython3",
   "version": "3.8.8"
  }
 },
 "nbformat": 4,
 "nbformat_minor": 5
}
